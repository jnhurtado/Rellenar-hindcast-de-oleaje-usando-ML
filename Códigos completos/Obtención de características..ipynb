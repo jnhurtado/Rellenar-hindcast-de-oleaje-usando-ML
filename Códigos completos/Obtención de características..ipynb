{
 "cells": [
  {
   "cell_type": "code",
   "execution_count": 1,
   "metadata": {},
   "outputs": [],
   "source": [
    "import numpy as np\n",
    "\n",
    "import matplotlib.pyplot as plt\n",
    "from matplotlib import cm\n",
    "from matplotlib.ticker import LinearLocator, FormatStrFormatter\n",
    "\n",
    "import xarray as xr\n",
    "\n",
    "import pandas as pd\n",
    "\n",
    "from sklearn.preprocessing import MinMaxScaler\n",
    "from sklearn import linear_model\n",
    "\n",
    "from keras.models import load_model, Model, Sequential\n",
    "from keras.layers import AveragePooling2D, MaxPooling2D, UpSampling2D,Conv2DTranspose, Input, SimpleRNN, LSTM, Dense,Dropout, Activation , Flatten, ConvLSTM2D, Conv2D, Reshape, TimeDistributed, BatchNormalization\n",
    "from keras.utils import to_categorical\n",
    "from keras.optimizers import Adam\n",
    "from keras import backend as K\n",
    "from keras.utils.vis_utils import plot_model\n",
    "from keras import regularizers\n",
    "import keras\n",
    "\n",
    "import tensorflow as tf\n"
   ]
  },
  {
   "cell_type": "code",
   "execution_count": 2,
   "metadata": {},
   "outputs": [],
   "source": [
    "#Ubicación de los archivos\n",
    "\n",
    "Data = r\"/Users/javier/Documents/Data/\"  #Ruta de acceso a los datos brutos \n",
    "\n",
    "Codigo = r'/Users/javier/Documents/Código/' #Dirección de códigos y funciones externas\n",
    "\n",
    "Cache = r'/Users/javier/Documents/Código/Cache/' #Carpeta donde guardaremos los modelos y arreglos obtenidos\n",
    "\n",
    "Imagenes = r'/Users/javier/Documents/Imagenes/' # Carpeta para guardar outputs gráficos\n"
   ]
  },
  {
   "cell_type": "code",
   "execution_count": 10,
   "metadata": {},
   "outputs": [],
   "source": [
    "'''\n",
    "Hace un avarage pooling y luego un flatten si se le pide.\n",
    "\n",
    "'''\n",
    "\n",
    "\n",
    "def preparar_x(dswind, lotes = 20000, pooling = 1, flat = False):\n",
    "\n",
    "    '''\n",
    "    Función para poder crear un arreglo de datos que contenga todos los dato del dataserie,\n",
    "    \n",
    "    Es relevante, ya que se debe hacer por lotes para no exceder la capacidad de la RAM.\n",
    "    \n",
    "    \n",
    "    lotes: int, corresponde al tamaño de cada lote a procesar mediante un avarage pooling\n",
    "    \n",
    "    pooling: int, densidad del avarage pooling.\n",
    "    \n",
    "    return, arreglo X correspondiente a la base de datos dswind completa con dimensión reducida\n",
    "\n",
    "    '''\n",
    "\n",
    "\n",
    "    Largototal = dswind.data.shape[0]\n",
    "\n",
    "    j = lotes\n",
    "\n",
    "    X = resize(np.array(dswind.isel(time = slice(0,j)).data), pooling, pooling)\n",
    "\n",
    "    \n",
    "    for i in range(lotes*2,Largototal,lotes):\n",
    "        \n",
    "        windpart = resize(np.array(dswind.isel(time = slice(j,i)).data), pooling,pooling)\n",
    "        \n",
    "        X = np.append(X,windpart, axis = 0)\n",
    "        \n",
    "        j = i\n",
    "        \n",
    "        print('Datos: ',i,'/',Largototal)\n",
    "        \n",
    "    windpart = resize(np.array(dswind.isel(time = slice(j,Largototal)).data), pooling,pooling)\n",
    "\n",
    "    X = np.append(X,windpart, axis = 0)\n",
    "    \n",
    "    if flat:\n",
    "        \n",
    "        X = X.reshape(X.shape[0],X.shape[1]*X.shape[2])\n",
    "    \n",
    "    return X\n",
    "\n",
    "def RMSE(real, estimado):\n",
    "    \n",
    "    '''\n",
    "    Raíz del error cuadrático medio'''\n",
    "    \n",
    "    return np.sqrt((np.square(real - estimado)).mean())\n",
    "\n",
    "\n",
    "\n",
    "\n",
    "def resize(Wind,i,j=1,padding='valid'):\n",
    "    \n",
    "    \n",
    "    '''\n",
    "    Wind: array de dimensión (m, latitud, longitud) o  (m, latitud, longitud, canales)\n",
    "    i: int, indica tamaño del pool size\n",
    "    j: int, indica tamaño del strides \n",
    "    return: array de entrada con menor resolución. Dimensión (m, latitud/j, longitud/j, canales)\n",
    "    '''\n",
    "    \n",
    "    if len(Wind.shape) ==3:\n",
    "    \n",
    "        Wind = Wind.reshape(Wind.shape[0], Wind.shape[1], Wind.shape[2],1)\n",
    "\n",
    "    Average_pool = AveragePooling2D(pool_size = i,strides = j ,padding=padding)#, strides= int(10*i)) #el poolsize y stride, están pensados para las futuras iteraciones\n",
    "\n",
    "    model = Sequential([Average_pool]) \n",
    "\n",
    "    output = model.predict(Wind)    \n",
    "    \n",
    "    Wind = np.squeeze(output) \n",
    "    \n",
    "    return Wind\n",
    "\n",
    "\n",
    "def flatten(Var):\n",
    "    \n",
    "    '''Funcion que realiza una transformación lineal de dimensión 3 a dimensión 2 '''\n",
    "    \n",
    "    return Var.reshape(Var.shape[0], Var.shape[1]*Var.shape[2])\n",
    "\n",
    "\n",
    "\n",
    "def RMSE(real, estimado):\n",
    "    \n",
    "    '''\n",
    "    Raíz del error cuadrático medio'''\n",
    "    \n",
    "    return np.sqrt((np.square(real - estimado)).mean())\n",
    "\n",
    "\n",
    "def normalize(X):\n",
    "    \n",
    "    '''Normaliza los datos entre 1 y 0\n",
    "    Es usada para el X de entrenamiento'''\n",
    "    \n",
    "    return (X-X.min())/(X.max()-X.min())\n",
    "\n",
    "\n",
    "def juntar(Var):\n",
    "    \n",
    "    '''Luego de pronosticar con la red neuronl, se juntan las subseries, en una serie continua'''\n",
    "    \n",
    "    return Var.reshape(Var.shape[0]*Var.shape[1],Var.shape[2])\n",
    "\n",
    "\n",
    "def dividir(Var1, Var2, timestep, desfase):\n",
    "    \n",
    "    '''Divide las series Var1 y Var2 en sub series de tamaño timestep más desfase\n",
    "    esta funcion se usa dentro de get_set'''\n",
    "    \n",
    "    Var1_d = []\n",
    "\n",
    "    for t in range(timestep+desfase, Var1.shape[0],timestep):\n",
    "        \n",
    "        Var1_d.append(Var1[t - timestep -desfase:t])\n",
    "        \n",
    "    Var1_d = np.array(Var1_d)\n",
    "\n",
    "    Var2_d = []\n",
    "    \n",
    "    for t in range(timestep+desfase, Var2.shape[0],timestep):\n",
    "            \n",
    "        Var2_d.append(Var2[t - timestep:t])\n",
    "        \n",
    "    Var2_d = np.array(Var2_d)    \n",
    "     \n",
    "    return Var1_d, Var2_d"
   ]
  },
  {
   "cell_type": "code",
   "execution_count": 18,
   "metadata": {},
   "outputs": [],
   "source": [
    "\n",
    "\n",
    "names = ['download(1979-1988).nc',\n",
    "         'download(1989-1999).nc',\n",
    "         'download(2000-2009).nc',\n",
    "         ]\n",
    "\n",
    "names2 = 'download(2010-2020).nc'\n",
    "\n",
    "\n",
    "files = [Data + name for name in names]\n",
    "\n",
    "dswind = xr.open_mfdataset(files)\n",
    "\n",
    "dswind2 = xr.open_mfdataset(Data + names2).isel(expver=0)  \n",
    "\n",
    "df0 = pd.read_csv(Data + 'NCEP_Spectra2.csv',index_col='Unnamed: 0')  #Sólo los parámetros de oleaje, no es el espectro completo.\n",
    "\n",
    "\n",
    "df02 = pd.read_csv(Data + 'NCEP_Spectra_from_Partitions_33.0S_72W_197901to200912_paramsMIKE.csv',index_col='Unnamed: 0') "
   ]
  },
  {
   "cell_type": "code",
   "execution_count": 20,
   "metadata": {
    "scrolled": true
   },
   "outputs": [],
   "source": [
    "#Escogemos el período de tiempo de interés y la ventana espacial que entregará las características necesarias para pronosticar.\n",
    "\n",
    "Desde =  '2018-12-01 00:00:00'\n",
    "\n",
    "Hasta =  '2019-02-01 03:00:00'\n",
    "\n",
    "Longitud = slice(-130,-60)\n",
    "\n",
    "Latitud = slice(-20,-70)\n",
    "\n",
    "\n",
    "Presion = dswind2.msl.sel(time=slice(Desde,  Hasta),longitude=Longitud,latitude=Latitud)\n",
    "\n",
    "#Pres = preparar_x(Presion,5000,2)  \n",
    "\n",
    "\n"
   ]
  },
  {
   "cell_type": "code",
   "execution_count": 24,
   "metadata": {},
   "outputs": [],
   "source": [
    "Pres = preparar_x(Presion,490,2) "
   ]
  },
  {
   "cell_type": "code",
   "execution_count": 25,
   "metadata": {},
   "outputs": [],
   "source": [
    "Pres = normalize(Pres) #Normalizamos entre 0 y 1"
   ]
  },
  {
   "cell_type": "code",
   "execution_count": 26,
   "metadata": {},
   "outputs": [],
   "source": [
    "#Cargar o guardar según corresponda el caso\n",
    "\n",
    "#np.save('Presión_2018.npy',Pres)\n",
    "\n",
    "Pres = np.load(Cache + 'Presión.npy')"
   ]
  },
  {
   "cell_type": "code",
   "execution_count": 10,
   "metadata": {},
   "outputs": [],
   "source": [
    "#Repetimos tres veces la presión en un tercer canal para que los modelos pre-entrenados lo reciban como foto RGB\n",
    "\n",
    "X3 = np.repeat(Pres[..., np.newaxis], 3, -1)\n",
    "\n"
   ]
  },
  {
   "cell_type": "code",
   "execution_count": 11,
   "metadata": {},
   "outputs": [
    {
     "data": {
      "text/plain": [
       "(90575, 100, 140)"
      ]
     },
     "execution_count": 11,
     "metadata": {},
     "output_type": "execute_result"
    }
   ],
   "source": [
    "Pres.shape"
   ]
  },
  {
   "cell_type": "code",
   "execution_count": 12,
   "metadata": {
    "scrolled": true
   },
   "outputs": [
    {
     "name": "stdout",
     "output_type": "stream",
     "text": [
      "Model: \"vgg16\"\n",
      "_________________________________________________________________\n",
      "Layer (type)                 Output Shape              Param #   \n",
      "=================================================================\n",
      "input_1 (InputLayer)         [(None, 100, 140, 3)]     0         \n",
      "_________________________________________________________________\n",
      "block1_conv1 (Conv2D)        (None, 100, 140, 64)      1792      \n",
      "_________________________________________________________________\n",
      "block1_conv2 (Conv2D)        (None, 100, 140, 64)      36928     \n",
      "_________________________________________________________________\n",
      "block1_pool (MaxPooling2D)   (None, 50, 70, 64)        0         \n",
      "_________________________________________________________________\n",
      "block2_conv1 (Conv2D)        (None, 50, 70, 128)       73856     \n",
      "_________________________________________________________________\n",
      "block2_conv2 (Conv2D)        (None, 50, 70, 128)       147584    \n",
      "_________________________________________________________________\n",
      "block2_pool (MaxPooling2D)   (None, 25, 35, 128)       0         \n",
      "_________________________________________________________________\n",
      "block3_conv1 (Conv2D)        (None, 25, 35, 256)       295168    \n",
      "_________________________________________________________________\n",
      "block3_conv2 (Conv2D)        (None, 25, 35, 256)       590080    \n",
      "_________________________________________________________________\n",
      "block3_conv3 (Conv2D)        (None, 25, 35, 256)       590080    \n",
      "_________________________________________________________________\n",
      "block3_pool (MaxPooling2D)   (None, 12, 17, 256)       0         \n",
      "_________________________________________________________________\n",
      "block4_conv1 (Conv2D)        (None, 12, 17, 512)       1180160   \n",
      "_________________________________________________________________\n",
      "block4_conv2 (Conv2D)        (None, 12, 17, 512)       2359808   \n",
      "_________________________________________________________________\n",
      "block4_conv3 (Conv2D)        (None, 12, 17, 512)       2359808   \n",
      "_________________________________________________________________\n",
      "block4_pool (MaxPooling2D)   (None, 6, 8, 512)         0         \n",
      "_________________________________________________________________\n",
      "block5_conv1 (Conv2D)        (None, 6, 8, 512)         2359808   \n",
      "_________________________________________________________________\n",
      "block5_conv2 (Conv2D)        (None, 6, 8, 512)         2359808   \n",
      "_________________________________________________________________\n",
      "block5_conv3 (Conv2D)        (None, 6, 8, 512)         2359808   \n",
      "_________________________________________________________________\n",
      "block5_pool (MaxPooling2D)   (None, 3, 4, 512)         0         \n",
      "=================================================================\n",
      "Total params: 14,714,688\n",
      "Trainable params: 14,714,688\n",
      "Non-trainable params: 0\n",
      "_________________________________________________________________\n"
     ]
    }
   ],
   "source": [
    "from tensorflow.keras.applications import InceptionV3, ResNet50, Xception,InceptionResNetV2, ResNet152V2, VGG16\n",
    "\n",
    "input_tensor = Input(shape=(X3.shape[1], X3.shape[2], 3))\n",
    "\n",
    "model =   VGG16(input_tensor=input_tensor , weights = 'imagenet', include_top =False)\n",
    "\n",
    "model.summary()\n"
   ]
  },
  {
   "cell_type": "code",
   "execution_count": 55,
   "metadata": {},
   "outputs": [
    {
     "name": "stdout",
     "output_type": "stream",
     "text": [
      "Se guardó!\n"
     ]
    }
   ],
   "source": [
    "#Hacemos el forward del modelo pre-entrenado, para obtener un vector x_features de características.\n",
    "#puede tardar varios minutos\n",
    "\n",
    "x_features = model.predict(X3)\n",
    "\n",
    "np.save(Cache + 'x_features_VGG(2010-2020).npy', x_features)\n",
    "\n",
    "print('Se guardó, ya tenemos el X de características')\n",
    "\n"
   ]
  },
  {
   "cell_type": "code",
   "execution_count": 56,
   "metadata": {},
   "outputs": [],
   "source": [
    "#Bajamos la dimensión y transformamos a vector.\n",
    "\n",
    "X = resize(x_features,3,True)\n",
    "\n",
    "X = flatten(X)"
   ]
  },
  {
   "cell_type": "code",
   "execution_count": 13,
   "metadata": {},
   "outputs": [],
   "source": [
    "\"'En caso de tener el x_features previamente guardado, se puede empezar aquí. Si no es el caso, saltar esta celda'\"\n",
    "\n",
    "X = np.load(Cache + 'x_features_VGG(1979-2009).npy')\n",
    "\n",
    "X = resize(X,3, True)\n",
    "\n",
    "X = flatten(X)"
   ]
  },
  {
   "cell_type": "code",
   "execution_count": 50,
   "metadata": {},
   "outputs": [
    {
     "data": {
      "text/plain": [
       "(90575, 560)"
      ]
     },
     "execution_count": 50,
     "metadata": {},
     "output_type": "execute_result"
    }
   ],
   "source": [
    "\"'Se carga X como los valores de presión, omitir si se quiere usar el X features del modelo pre-entrenado'\"\n",
    "\n",
    "X = np.load(Cache + 'Presión2.npy')\n",
    "\n",
    "X = resize(X,5,5)\n",
    "\n",
    "X = flatten(X)\n",
    "\n",
    "X.shape"
   ]
  },
  {
   "cell_type": "markdown",
   "metadata": {},
   "source": [
    "## Regresor Ridge\n",
    "Se usa el regresor para diferenciar los rendimientos de los distintos modelos pre-entrenados."
   ]
  },
  {
   "cell_type": "code",
   "execution_count": 14,
   "metadata": {},
   "outputs": [],
   "source": [
    "\n",
    "Desde = '1979-01-01 03:00:00'\n",
    "\n",
    "Hasta = '2009-12-30 21:00:00'\n",
    "\n",
    "Hm0 = np.array(df0[Desde: Hasta]['Hm0']).reshape(-1,1)\n",
    "Tp = np.array(df0[Desde: Hasta]['Tp']).reshape(-1,1)\n",
    "MD = np.array(df0[Desde: Hasta]['Mean Dir']).reshape(-1,1)\n",
    "DSD =  np.array(df0[Desde: Hasta]['DSD']).reshape(-1,1)\n",
    "WP = np.array(df02[Desde: Hasta]['P1: Wave Period, T01']).reshape(-1,1)"
   ]
  },
  {
   "cell_type": "code",
   "execution_count": 66,
   "metadata": {},
   "outputs": [],
   "source": [
    "Y = MD # Seleccionamos el parámetro a pronosticar.\n",
    "\n",
    "X2, Y = dividir(X, Y, timestep =1 , desfase=60) #Se prepara para ingresar al regresor por medio de un desfase.\n",
    "\n",
    "X2 = flatten(X2)\n",
    "\n",
    "Y= flatten(Y)\n",
    "\n",
    "\n",
    "#Separamos en sets de entrenamiento y de validación\n",
    "\n",
    "m = X2.shape[0]  \n",
    "\n",
    "x_train_feat = X2[int(m*0.0):int(m*0.5)]\n",
    "\n",
    "x_test_feat = X2[int(m*0.9):int(m*1)]\n",
    "\n",
    "y_train_f = Y[int(m*0.0):int(m*0.5)]\n",
    "\n",
    "y_test_f = Y[int(m*0.9):int(m*1)]\n",
    "\n",
    "\n",
    "#Creamos el regresor\n",
    "\n",
    "regresor = linear_model.Ridge(alpha=.5,normalize=True)\n",
    "\n",
    "#Entrenamos el regresor\n",
    "\n",
    "regresor = regresor.fit(x_train_feat,y_train_f)"
   ]
  },
  {
   "cell_type": "code",
   "execution_count": 64,
   "metadata": {},
   "outputs": [],
   "source": [
    "m = X2.shape[0]  \n",
    "\n",
    "x_train_feat = X2[int(m*0.0):int(m*0.5)]\n",
    "\n",
    "x_test_feat = X2[int(m*0.9):int(m*1)]\n",
    "\n",
    "y_train_f = Y[int(m*0.0):int(m*0.5)]\n",
    "\n",
    "y_test_f = Y[int(m*0.9):int(m*1)]"
   ]
  },
  {
   "cell_type": "code",
   "execution_count": 67,
   "metadata": {},
   "outputs": [
    {
     "name": "stdout",
     "output_type": "stream",
     "text": [
      "r:  0.841   RMSE:  6.271389378271823\n"
     ]
    }
   ],
   "source": [
    "#pronosticamos y calculamos r, rmse\n",
    "\n",
    "y_pred_t = regresor.predict(x_test_feat)\n",
    "\n",
    "print('r: ', np.round(np.corrcoef(y_test_f.T,y_pred_t.T)[0,1],3), '  RMSE: ',RMSE(y_test_f.T,y_pred_t.T))"
   ]
  }
 ],
 "metadata": {
  "kernelspec": {
   "display_name": "Python 3",
   "language": "python",
   "name": "python3"
  },
  "language_info": {
   "codemirror_mode": {
    "name": "ipython",
    "version": 3
   },
   "file_extension": ".py",
   "mimetype": "text/x-python",
   "name": "python",
   "nbconvert_exporter": "python",
   "pygments_lexer": "ipython3",
   "version": "3.8.5"
  }
 },
 "nbformat": 4,
 "nbformat_minor": 4
}
